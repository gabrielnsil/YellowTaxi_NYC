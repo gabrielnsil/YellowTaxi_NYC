{
 "cells": [
  {
   "cell_type": "code",
   "execution_count": 4,
   "id": "40e99c93-20e7-4e34-9df1-f9a3746721c9",
   "metadata": {},
   "outputs": [],
   "source": [
    "import pandas as pd\n",
    "import pyarrow as pa\n",
    "from pyarrow import parquet as pq\n",
    "import glob\n",
    "import time\n",
    "import datetime as dt"
   ]
  },
  {
   "cell_type": "code",
   "execution_count": 5,
   "id": "afbe99ca-5824-4db9-909d-7f6d76ba6c8c",
   "metadata": {},
   "outputs": [],
   "source": [
    "parquet_files = glob.glob('data/*.parquet')"
   ]
  },
  {
   "cell_type": "code",
   "execution_count": 6,
   "id": "613bf403-8530-4ee6-93e4-023d6ae49051",
   "metadata": {},
   "outputs": [],
   "source": [
    "parquet_tables = []"
   ]
  },
  {
   "cell_type": "code",
   "execution_count": 7,
   "id": "406e6c56-7788-43d0-827a-18321c69bc3b",
   "metadata": {},
   "outputs": [
    {
     "name": "stdout",
     "output_type": "stream",
     "text": [
      "We have data of 12 months\n"
     ]
    }
   ],
   "source": [
    "for file in parquet_files:\n",
    "        parquet_table = pq.read_table(file)\n",
    "        parquet_tables.append(parquet_table)\n",
    "\n",
    "print(f'We have data of {len(parquet_tables)} months')"
   ]
  },
  {
   "cell_type": "code",
   "execution_count": 8,
   "id": "365bd10d-5443-4cfb-a649-8204ffe423e3",
   "metadata": {},
   "outputs": [],
   "source": [
    "trips = pa.concat_tables(parquet_tables, ignore_index=True)"
   ]
  },
  {
   "cell_type": "code",
   "execution_count": 9,
   "id": "ae7bbc8c-4cc8-4a9a-8520-a2caf4693e96",
   "metadata": {},
   "outputs": [],
   "source": [
    "start_time = time.time()"
   ]
  },
  {
   "cell_type": "code",
   "execution_count": 10,
   "id": "398740d4-a31b-4b25-8d31-7251b11e6006",
   "metadata": {},
   "outputs": [],
   "source": [
    "trips = trips.to_pandas()"
   ]
  },
  {
   "cell_type": "code",
   "execution_count": 11,
   "id": "7b36a2b1-a9b9-49eb-bb54-3780d20e93f3",
   "metadata": {},
   "outputs": [
    {
     "name": "stdout",
     "output_type": "stream",
     "text": [
      "--- 108.8759400844574 seconds ---\n"
     ]
    }
   ],
   "source": [
    "print(f'--- {time.time() - start_time} seconds ---')"
   ]
  },
  {
   "cell_type": "code",
   "execution_count": 12,
   "id": "0a0bb32e-3dd3-41db-876d-aa22a41a5721",
   "metadata": {},
   "outputs": [
    {
     "name": "stdout",
     "output_type": "stream",
     "text": [
      "<class 'pandas.core.frame.DataFrame'>\n",
      "RangeIndex: 39656098 entries, 0 to 39656097\n",
      "Data columns (total 19 columns):\n",
      " #   Column                 Dtype         \n",
      "---  ------                 -----         \n",
      " 0   VendorID               int64         \n",
      " 1   tpep_pickup_datetime   datetime64[ns]\n",
      " 2   tpep_dropoff_datetime  datetime64[ns]\n",
      " 3   passenger_count        float64       \n",
      " 4   trip_distance          float64       \n",
      " 5   RatecodeID             float64       \n",
      " 6   store_and_fwd_flag     object        \n",
      " 7   PULocationID           int64         \n",
      " 8   DOLocationID           int64         \n",
      " 9   payment_type           int64         \n",
      " 10  fare_amount            float64       \n",
      " 11  extra                  float64       \n",
      " 12  mta_tax                float64       \n",
      " 13  tip_amount             float64       \n",
      " 14  tolls_amount           float64       \n",
      " 15  improvement_surcharge  float64       \n",
      " 16  total_amount           float64       \n",
      " 17  congestion_surcharge   float64       \n",
      " 18  airport_fee            float64       \n",
      "dtypes: datetime64[ns](2), float64(12), int64(4), object(1)\n",
      "memory usage: 5.6+ GB\n"
     ]
    }
   ],
   "source": [
    "trips.info()"
   ]
  },
  {
   "cell_type": "code",
   "execution_count": 13,
   "id": "c43ff7e3-9fc3-4733-ac2b-b1559c9fdfb8",
   "metadata": {},
   "outputs": [],
   "source": [
    "start_time = time.time()"
   ]
  },
  {
   "cell_type": "code",
   "execution_count": 14,
   "id": "3b64e62b-5a8b-4821-92b8-0ab00aa2fb80",
   "metadata": {},
   "outputs": [],
   "source": [
    "## This step is not necessary, there is just one duplicate and this step take something like 25 minutes. \n",
    "# Before: 39656098 entries\n",
    "# After: 39656097 entries\n",
    "## trips = trips.drop_duplicates().reset_index(drop=True) \n",
    "trips['trip_id'] = trips.index"
   ]
  },
  {
   "cell_type": "code",
   "execution_count": 15,
   "id": "93f1a8ce-8d7f-4857-9a01-66898eb32948",
   "metadata": {},
   "outputs": [
    {
     "name": "stdout",
     "output_type": "stream",
     "text": [
      "--- 7.014785051345825 seconds ---\n"
     ]
    }
   ],
   "source": [
    "print(f'--- {time.time() - start_time} seconds ---')"
   ]
  },
  {
   "cell_type": "code",
   "execution_count": 16,
   "id": "f7915bb1-ef75-4519-b9b3-34479e3f9212",
   "metadata": {},
   "outputs": [
    {
     "data": {
      "text/html": [
       "<div>\n",
       "<style scoped>\n",
       "    .dataframe tbody tr th:only-of-type {\n",
       "        vertical-align: middle;\n",
       "    }\n",
       "\n",
       "    .dataframe tbody tr th {\n",
       "        vertical-align: top;\n",
       "    }\n",
       "\n",
       "    .dataframe thead th {\n",
       "        text-align: right;\n",
       "    }\n",
       "</style>\n",
       "<table border=\"1\" class=\"dataframe\">\n",
       "  <thead>\n",
       "    <tr style=\"text-align: right;\">\n",
       "      <th></th>\n",
       "      <th>VendorID</th>\n",
       "      <th>tpep_pickup_datetime</th>\n",
       "      <th>tpep_dropoff_datetime</th>\n",
       "      <th>passenger_count</th>\n",
       "      <th>trip_distance</th>\n",
       "      <th>RatecodeID</th>\n",
       "      <th>store_and_fwd_flag</th>\n",
       "      <th>PULocationID</th>\n",
       "      <th>DOLocationID</th>\n",
       "      <th>payment_type</th>\n",
       "      <th>fare_amount</th>\n",
       "      <th>extra</th>\n",
       "      <th>mta_tax</th>\n",
       "      <th>tip_amount</th>\n",
       "      <th>tolls_amount</th>\n",
       "      <th>improvement_surcharge</th>\n",
       "      <th>total_amount</th>\n",
       "      <th>congestion_surcharge</th>\n",
       "      <th>airport_fee</th>\n",
       "      <th>trip_id</th>\n",
       "    </tr>\n",
       "  </thead>\n",
       "  <tbody>\n",
       "    <tr>\n",
       "      <th>0</th>\n",
       "      <td>1</td>\n",
       "      <td>2022-01-01 00:35:40</td>\n",
       "      <td>2022-01-01 00:53:29</td>\n",
       "      <td>2.0</td>\n",
       "      <td>3.80</td>\n",
       "      <td>1.0</td>\n",
       "      <td>N</td>\n",
       "      <td>142</td>\n",
       "      <td>236</td>\n",
       "      <td>1</td>\n",
       "      <td>14.5</td>\n",
       "      <td>3.0</td>\n",
       "      <td>0.5</td>\n",
       "      <td>3.65</td>\n",
       "      <td>0.0</td>\n",
       "      <td>0.3</td>\n",
       "      <td>21.95</td>\n",
       "      <td>2.5</td>\n",
       "      <td>0.0</td>\n",
       "      <td>0</td>\n",
       "    </tr>\n",
       "    <tr>\n",
       "      <th>1</th>\n",
       "      <td>1</td>\n",
       "      <td>2022-01-01 00:33:43</td>\n",
       "      <td>2022-01-01 00:42:07</td>\n",
       "      <td>1.0</td>\n",
       "      <td>2.10</td>\n",
       "      <td>1.0</td>\n",
       "      <td>N</td>\n",
       "      <td>236</td>\n",
       "      <td>42</td>\n",
       "      <td>1</td>\n",
       "      <td>8.0</td>\n",
       "      <td>0.5</td>\n",
       "      <td>0.5</td>\n",
       "      <td>4.00</td>\n",
       "      <td>0.0</td>\n",
       "      <td>0.3</td>\n",
       "      <td>13.30</td>\n",
       "      <td>0.0</td>\n",
       "      <td>0.0</td>\n",
       "      <td>1</td>\n",
       "    </tr>\n",
       "    <tr>\n",
       "      <th>2</th>\n",
       "      <td>2</td>\n",
       "      <td>2022-01-01 00:53:21</td>\n",
       "      <td>2022-01-01 01:02:19</td>\n",
       "      <td>1.0</td>\n",
       "      <td>0.97</td>\n",
       "      <td>1.0</td>\n",
       "      <td>N</td>\n",
       "      <td>166</td>\n",
       "      <td>166</td>\n",
       "      <td>1</td>\n",
       "      <td>7.5</td>\n",
       "      <td>0.5</td>\n",
       "      <td>0.5</td>\n",
       "      <td>1.76</td>\n",
       "      <td>0.0</td>\n",
       "      <td>0.3</td>\n",
       "      <td>10.56</td>\n",
       "      <td>0.0</td>\n",
       "      <td>0.0</td>\n",
       "      <td>2</td>\n",
       "    </tr>\n",
       "    <tr>\n",
       "      <th>3</th>\n",
       "      <td>2</td>\n",
       "      <td>2022-01-01 00:25:21</td>\n",
       "      <td>2022-01-01 00:35:23</td>\n",
       "      <td>1.0</td>\n",
       "      <td>1.09</td>\n",
       "      <td>1.0</td>\n",
       "      <td>N</td>\n",
       "      <td>114</td>\n",
       "      <td>68</td>\n",
       "      <td>2</td>\n",
       "      <td>8.0</td>\n",
       "      <td>0.5</td>\n",
       "      <td>0.5</td>\n",
       "      <td>0.00</td>\n",
       "      <td>0.0</td>\n",
       "      <td>0.3</td>\n",
       "      <td>11.80</td>\n",
       "      <td>2.5</td>\n",
       "      <td>0.0</td>\n",
       "      <td>3</td>\n",
       "    </tr>\n",
       "    <tr>\n",
       "      <th>4</th>\n",
       "      <td>2</td>\n",
       "      <td>2022-01-01 00:36:48</td>\n",
       "      <td>2022-01-01 01:14:20</td>\n",
       "      <td>1.0</td>\n",
       "      <td>4.30</td>\n",
       "      <td>1.0</td>\n",
       "      <td>N</td>\n",
       "      <td>68</td>\n",
       "      <td>163</td>\n",
       "      <td>1</td>\n",
       "      <td>23.5</td>\n",
       "      <td>0.5</td>\n",
       "      <td>0.5</td>\n",
       "      <td>3.00</td>\n",
       "      <td>0.0</td>\n",
       "      <td>0.3</td>\n",
       "      <td>30.30</td>\n",
       "      <td>2.5</td>\n",
       "      <td>0.0</td>\n",
       "      <td>4</td>\n",
       "    </tr>\n",
       "  </tbody>\n",
       "</table>\n",
       "</div>"
      ],
      "text/plain": [
       "   VendorID tpep_pickup_datetime tpep_dropoff_datetime  passenger_count  \\\n",
       "0         1  2022-01-01 00:35:40   2022-01-01 00:53:29              2.0   \n",
       "1         1  2022-01-01 00:33:43   2022-01-01 00:42:07              1.0   \n",
       "2         2  2022-01-01 00:53:21   2022-01-01 01:02:19              1.0   \n",
       "3         2  2022-01-01 00:25:21   2022-01-01 00:35:23              1.0   \n",
       "4         2  2022-01-01 00:36:48   2022-01-01 01:14:20              1.0   \n",
       "\n",
       "   trip_distance  RatecodeID store_and_fwd_flag  PULocationID  DOLocationID  \\\n",
       "0           3.80         1.0                  N           142           236   \n",
       "1           2.10         1.0                  N           236            42   \n",
       "2           0.97         1.0                  N           166           166   \n",
       "3           1.09         1.0                  N           114            68   \n",
       "4           4.30         1.0                  N            68           163   \n",
       "\n",
       "   payment_type  fare_amount  extra  mta_tax  tip_amount  tolls_amount  \\\n",
       "0             1         14.5    3.0      0.5        3.65           0.0   \n",
       "1             1          8.0    0.5      0.5        4.00           0.0   \n",
       "2             1          7.5    0.5      0.5        1.76           0.0   \n",
       "3             2          8.0    0.5      0.5        0.00           0.0   \n",
       "4             1         23.5    0.5      0.5        3.00           0.0   \n",
       "\n",
       "   improvement_surcharge  total_amount  congestion_surcharge  airport_fee  \\\n",
       "0                    0.3         21.95                   2.5          0.0   \n",
       "1                    0.3         13.30                   0.0          0.0   \n",
       "2                    0.3         10.56                   0.0          0.0   \n",
       "3                    0.3         11.80                   2.5          0.0   \n",
       "4                    0.3         30.30                   2.5          0.0   \n",
       "\n",
       "   trip_id  \n",
       "0        0  \n",
       "1        1  \n",
       "2        2  \n",
       "3        3  \n",
       "4        4  "
      ]
     },
     "execution_count": 16,
     "metadata": {},
     "output_type": "execute_result"
    }
   ],
   "source": [
    "trips.head()"
   ]
  },
  {
   "cell_type": "code",
   "execution_count": 17,
   "id": "e24bfb3a-afc4-43c8-a687-c5bd6a964fa7",
   "metadata": {},
   "outputs": [
    {
     "name": "stdout",
     "output_type": "stream",
     "text": [
      "<class 'pandas.core.frame.DataFrame'>\n",
      "RangeIndex: 39656098 entries, 0 to 39656097\n",
      "Data columns (total 20 columns):\n",
      " #   Column                 Dtype         \n",
      "---  ------                 -----         \n",
      " 0   VendorID               int64         \n",
      " 1   tpep_pickup_datetime   datetime64[ns]\n",
      " 2   tpep_dropoff_datetime  datetime64[ns]\n",
      " 3   passenger_count        float64       \n",
      " 4   trip_distance          float64       \n",
      " 5   RatecodeID             float64       \n",
      " 6   store_and_fwd_flag     object        \n",
      " 7   PULocationID           int64         \n",
      " 8   DOLocationID           int64         \n",
      " 9   payment_type           int64         \n",
      " 10  fare_amount            float64       \n",
      " 11  extra                  float64       \n",
      " 12  mta_tax                float64       \n",
      " 13  tip_amount             float64       \n",
      " 14  tolls_amount           float64       \n",
      " 15  improvement_surcharge  float64       \n",
      " 16  total_amount           float64       \n",
      " 17  congestion_surcharge   float64       \n",
      " 18  airport_fee            float64       \n",
      " 19  trip_id                int64         \n",
      "dtypes: datetime64[ns](2), float64(12), int64(5), object(1)\n",
      "memory usage: 5.9+ GB\n"
     ]
    }
   ],
   "source": [
    "trips.info()"
   ]
  },
  {
   "cell_type": "code",
   "execution_count": null,
   "id": "0cf83f38-c9ea-451b-ac6f-4a051d23f3b2",
   "metadata": {},
   "outputs": [],
   "source": [
    "#trips.to_csv('data/yellowTrips.csv')"
   ]
  },
  {
   "cell_type": "code",
   "execution_count": null,
   "id": "5efeeb95-a30e-4034-826a-668e4d26dfbf",
   "metadata": {},
   "outputs": [],
   "source": [
    "trips['tpep_pickup_datetime'] = pd.to_datetime(trips['tpep_pickup_datetime'])\n",
    "trips['tpep_dropoff_datetime'] = pd.to_datetime(trips['tpep_dropoff_datetime'])"
   ]
  },
  {
   "cell_type": "code",
   "execution_count": null,
   "id": "286f4980-ffab-435f-a37b-061579875775",
   "metadata": {},
   "outputs": [],
   "source": [
    "datetime_dim = trips[['tpep_pickup_datetime','tpep_dropoff_datetime']].reset_index(drop = True)\n",
    "\n",
    "datetime_dim['datetime_id'] = datetime_dim.index\n",
    "\n",
    "datetime_dim['pickup_time'] = datetime_dim['tpep_pickup_datetime'].dt.strftime('%H:%M:%S')\n",
    "datetime_dim['pickup_day'] = datetime_dim['tpep_pickup_datetime'].dt.day\n",
    "datetime_dim['pickup_month'] = datetime_dim['tpep_pickup_datetime'].dt.month\n",
    "datetime_dim['pickup_year'] = datetime_dim['tpep_pickup_datetime'].dt.year\n",
    "datetime_dim['pickup_weekday'] = datetime_dim['tpep_pickup_datetime'].dt.weekday\n",
    "datetime_dim['tpep_pickup_datetime'] = datetime_dim['tpep_pickup_datetime'].dt.strftime('%Y-%m-%d')\n",
    "\n",
    "datetime_dim['dropoff_time'] = datetime_dim['tpep_dropoff_datetime'].dt.strftime('%H:%M:%S')\n",
    "datetime_dim['dropoff_day'] = datetime_dim['tpep_dropoff_datetime'].dt.day\n",
    "datetime_dim['dropoff_month'] = datetime_dim['tpep_dropoff_datetime'].dt.month\n",
    "datetime_dim['dropoff_year'] = datetime_dim['tpep_dropoff_datetime'].dt.year\n",
    "datetime_dim['dropoff_weekday'] = datetime_dim['tpep_dropoff_datetime'].dt.weekday\n",
    "datetime_dim['tpep_dropoff_datetime'] = datetime_dim['tpep_dropoff_datetime'].dt.strftime('%Y-%m-%d')\n",
    "\n",
    "datetime_dim = datetime_dim[['datetime_id', 'tpep_pickup_datetime', 'pickup_time', 'pickup_day', 'pickup_month', 'pickup_year', 'pickup_weekday',\n",
    "                             'tpep_dropoff_datetime','dropoff_time', 'dropoff_day', 'dropoff_month', 'dropoff_year', 'dropoff_weekday']]\n",
    "\n",
    "\n",
    "datetime_dim.head()"
   ]
  },
  {
   "cell_type": "code",
   "execution_count": null,
   "id": "ea97d424-0f77-4c52-9531-4a4de17a07e0",
   "metadata": {},
   "outputs": [],
   "source": [
    "rate_code_type = {\n",
    "1: 'Standard rate',\n",
    "2:'JFK',\n",
    "3:'Newark',\n",
    "4:'Nassau or Westchester',\n",
    "5:'Negotiated fare',\n",
    "6:'Group ride'\n",
    "}\n",
    "\n",
    "rate_code_dim = trips[['RatecodeID']].reset_index(drop=True)\n",
    "rate_code_dim['rate_code_id'] = rate_code_dim.index\n",
    "rate_code_dim['rate_code_name'] = rate_code_dim['RatecodeID'].map(rate_code_types)\n",
    "rate_code_dim = rate_code_dim[['rate_code_id', 'RatedcodeID', 'rate_code_name']]\n",
    "\n",
    "rate_code_dim.head()"
   ]
  },
  {
   "cell_type": "code",
   "execution_count": 28,
   "id": "83a82d0c-7177-42d3-9923-252b3d1ead2b",
   "metadata": {},
   "outputs": [
    {
     "data": {
      "text/html": [
       "<div>\n",
       "<style scoped>\n",
       "    .dataframe tbody tr th:only-of-type {\n",
       "        vertical-align: middle;\n",
       "    }\n",
       "\n",
       "    .dataframe tbody tr th {\n",
       "        vertical-align: top;\n",
       "    }\n",
       "\n",
       "    .dataframe thead th {\n",
       "        text-align: right;\n",
       "    }\n",
       "</style>\n",
       "<table border=\"1\" class=\"dataframe\">\n",
       "  <thead>\n",
       "    <tr style=\"text-align: right;\">\n",
       "      <th></th>\n",
       "      <th>LocationID</th>\n",
       "      <th>Borough</th>\n",
       "      <th>Zone</th>\n",
       "      <th>service_zone</th>\n",
       "    </tr>\n",
       "  </thead>\n",
       "  <tbody>\n",
       "    <tr>\n",
       "      <th>0</th>\n",
       "      <td>1</td>\n",
       "      <td>EWR</td>\n",
       "      <td>Newark Airport</td>\n",
       "      <td>EWR</td>\n",
       "    </tr>\n",
       "    <tr>\n",
       "      <th>1</th>\n",
       "      <td>2</td>\n",
       "      <td>Queens</td>\n",
       "      <td>Jamaica Bay</td>\n",
       "      <td>Boro Zone</td>\n",
       "    </tr>\n",
       "    <tr>\n",
       "      <th>2</th>\n",
       "      <td>3</td>\n",
       "      <td>Bronx</td>\n",
       "      <td>Allerton/Pelham Gardens</td>\n",
       "      <td>Boro Zone</td>\n",
       "    </tr>\n",
       "    <tr>\n",
       "      <th>3</th>\n",
       "      <td>4</td>\n",
       "      <td>Manhattan</td>\n",
       "      <td>Alphabet City</td>\n",
       "      <td>Yellow Zone</td>\n",
       "    </tr>\n",
       "    <tr>\n",
       "      <th>4</th>\n",
       "      <td>5</td>\n",
       "      <td>Staten Island</td>\n",
       "      <td>Arden Heights</td>\n",
       "      <td>Boro Zone</td>\n",
       "    </tr>\n",
       "  </tbody>\n",
       "</table>\n",
       "</div>"
      ],
      "text/plain": [
       "   LocationID        Borough                     Zone service_zone\n",
       "0           1            EWR           Newark Airport          EWR\n",
       "1           2         Queens              Jamaica Bay    Boro Zone\n",
       "2           3          Bronx  Allerton/Pelham Gardens    Boro Zone\n",
       "3           4      Manhattan            Alphabet City  Yellow Zone\n",
       "4           5  Staten Island            Arden Heights    Boro Zone"
      ]
     },
     "execution_count": 28,
     "metadata": {},
     "output_type": "execute_result"
    }
   ],
   "source": [
    "taxi_zones = pd.read_csv('data/taxi+_zone_lookup.csv')\n",
    "taxi_zones.head()"
   ]
  },
  {
   "cell_type": "code",
   "execution_count": 45,
   "id": "bf3f3f67-d3fd-437d-a332-cd9987050b3b",
   "metadata": {},
   "outputs": [],
   "source": [
    "pickup_location_dim = trips[['PULocationID']].reset_index(drop=True)\n",
    "pickup_location_dim.head()\n",
    "pickup_location_dim = pickup_location_dim.merge(taxi_zones, how = 'left', left_on = 'PULocationID', right_on='LocationID')\n",
    "pickup_location_dim['pickup_location_id'] = trips['PULocationID'].index\n",
    "\n",
    "pickup_location_dim.rename(columns={'Borough': 'pu_borough', 'Zone': 'pu_zone', 'service_zone': 'pu_service_zone'}, inplace=True)\n",
    "pickup_location_dim = pickup_location_dim[['pickup_location_id', 'pu_borough', 'pu_zone', 'pu_service_zone']]"
   ]
  },
  {
   "cell_type": "code",
   "execution_count": 46,
   "id": "134cd620-e2f0-4661-aa50-584ba8814106",
   "metadata": {},
   "outputs": [
    {
     "data": {
      "text/html": [
       "<div>\n",
       "<style scoped>\n",
       "    .dataframe tbody tr th:only-of-type {\n",
       "        vertical-align: middle;\n",
       "    }\n",
       "\n",
       "    .dataframe tbody tr th {\n",
       "        vertical-align: top;\n",
       "    }\n",
       "\n",
       "    .dataframe thead th {\n",
       "        text-align: right;\n",
       "    }\n",
       "</style>\n",
       "<table border=\"1\" class=\"dataframe\">\n",
       "  <thead>\n",
       "    <tr style=\"text-align: right;\">\n",
       "      <th></th>\n",
       "      <th>pickup_location_id</th>\n",
       "      <th>borough</th>\n",
       "      <th>zone</th>\n",
       "      <th>service_zone</th>\n",
       "    </tr>\n",
       "  </thead>\n",
       "  <tbody>\n",
       "    <tr>\n",
       "      <th>0</th>\n",
       "      <td>0</td>\n",
       "      <td>Manhattan</td>\n",
       "      <td>Lincoln Square East</td>\n",
       "      <td>Yellow Zone</td>\n",
       "    </tr>\n",
       "    <tr>\n",
       "      <th>1</th>\n",
       "      <td>1</td>\n",
       "      <td>Manhattan</td>\n",
       "      <td>Upper East Side North</td>\n",
       "      <td>Yellow Zone</td>\n",
       "    </tr>\n",
       "    <tr>\n",
       "      <th>2</th>\n",
       "      <td>2</td>\n",
       "      <td>Manhattan</td>\n",
       "      <td>Morningside Heights</td>\n",
       "      <td>Boro Zone</td>\n",
       "    </tr>\n",
       "    <tr>\n",
       "      <th>3</th>\n",
       "      <td>3</td>\n",
       "      <td>Manhattan</td>\n",
       "      <td>Greenwich Village South</td>\n",
       "      <td>Yellow Zone</td>\n",
       "    </tr>\n",
       "    <tr>\n",
       "      <th>4</th>\n",
       "      <td>4</td>\n",
       "      <td>Manhattan</td>\n",
       "      <td>East Chelsea</td>\n",
       "      <td>Yellow Zone</td>\n",
       "    </tr>\n",
       "  </tbody>\n",
       "</table>\n",
       "</div>"
      ],
      "text/plain": [
       "   pickup_location_id    borough                     zone service_zone\n",
       "0                   0  Manhattan      Lincoln Square East  Yellow Zone\n",
       "1                   1  Manhattan    Upper East Side North  Yellow Zone\n",
       "2                   2  Manhattan      Morningside Heights    Boro Zone\n",
       "3                   3  Manhattan  Greenwich Village South  Yellow Zone\n",
       "4                   4  Manhattan             East Chelsea  Yellow Zone"
      ]
     },
     "execution_count": 46,
     "metadata": {},
     "output_type": "execute_result"
    }
   ],
   "source": [
    "pickup_location_dim.head()"
   ]
  },
  {
   "cell_type": "code",
   "execution_count": 48,
   "id": "bd1b8757-71de-48d6-8b00-6db5f93b36e5",
   "metadata": {},
   "outputs": [
    {
     "name": "stdout",
     "output_type": "stream",
     "text": [
      "<class 'pandas.core.frame.DataFrame'>\n",
      "Int64Index: 39656098 entries, 0 to 39656097\n",
      "Data columns (total 4 columns):\n",
      " #   Column              Dtype \n",
      "---  ------              ----- \n",
      " 0   pickup_location_id  int64 \n",
      " 1   borough             object\n",
      " 2   zone                object\n",
      " 3   service_zone        object\n",
      "dtypes: int64(1), object(3)\n",
      "memory usage: 1.5+ GB\n"
     ]
    }
   ],
   "source": [
    "pickup_location_dim.info()"
   ]
  },
  {
   "cell_type": "code",
   "execution_count": 51,
   "id": "a2a1d4be-f9fd-4944-88ba-08919b245073",
   "metadata": {},
   "outputs": [],
   "source": [
    "dropoff_location_dim = trips[['DOLocationID']].reset_index(drop=True)\n",
    "dropoff_location_dim.head()\n",
    "dropoff_location_dim = dropoff_location_dim.merge(taxi_zones, how = 'left', left_on = 'DOLocationID', right_on='LocationID')\n",
    "dropoff_location_dim['dropoff_location_id'] = trips['PULocationID'].index\n",
    "\n",
    "dropoff_location_dim.rename(columns={'Borough': 'do_borough', 'Zone': 'do_zone', 'service_zone': 'do_service_zone'}, inplace=True)\n",
    "dropoff_location_dim = dropoff_location_dim[['dropoff_location_id', 'do_borough', 'do_zone', 'do_service_zone']]"
   ]
  },
  {
   "cell_type": "code",
   "execution_count": 52,
   "id": "0309b57d-8ba5-4c12-830e-f27a21c7f6d6",
   "metadata": {},
   "outputs": [
    {
     "data": {
      "text/html": [
       "<div>\n",
       "<style scoped>\n",
       "    .dataframe tbody tr th:only-of-type {\n",
       "        vertical-align: middle;\n",
       "    }\n",
       "\n",
       "    .dataframe tbody tr th {\n",
       "        vertical-align: top;\n",
       "    }\n",
       "\n",
       "    .dataframe thead th {\n",
       "        text-align: right;\n",
       "    }\n",
       "</style>\n",
       "<table border=\"1\" class=\"dataframe\">\n",
       "  <thead>\n",
       "    <tr style=\"text-align: right;\">\n",
       "      <th></th>\n",
       "      <th>dropoff_location_id</th>\n",
       "      <th>borough</th>\n",
       "      <th>zone</th>\n",
       "      <th>service_zone</th>\n",
       "    </tr>\n",
       "  </thead>\n",
       "  <tbody>\n",
       "    <tr>\n",
       "      <th>0</th>\n",
       "      <td>0</td>\n",
       "      <td>Manhattan</td>\n",
       "      <td>Upper East Side North</td>\n",
       "      <td>Yellow Zone</td>\n",
       "    </tr>\n",
       "    <tr>\n",
       "      <th>1</th>\n",
       "      <td>1</td>\n",
       "      <td>Manhattan</td>\n",
       "      <td>Central Harlem North</td>\n",
       "      <td>Boro Zone</td>\n",
       "    </tr>\n",
       "    <tr>\n",
       "      <th>2</th>\n",
       "      <td>2</td>\n",
       "      <td>Manhattan</td>\n",
       "      <td>Morningside Heights</td>\n",
       "      <td>Boro Zone</td>\n",
       "    </tr>\n",
       "    <tr>\n",
       "      <th>3</th>\n",
       "      <td>3</td>\n",
       "      <td>Manhattan</td>\n",
       "      <td>East Chelsea</td>\n",
       "      <td>Yellow Zone</td>\n",
       "    </tr>\n",
       "    <tr>\n",
       "      <th>4</th>\n",
       "      <td>4</td>\n",
       "      <td>Manhattan</td>\n",
       "      <td>Midtown North</td>\n",
       "      <td>Yellow Zone</td>\n",
       "    </tr>\n",
       "  </tbody>\n",
       "</table>\n",
       "</div>"
      ],
      "text/plain": [
       "   dropoff_location_id    borough                   zone service_zone\n",
       "0                    0  Manhattan  Upper East Side North  Yellow Zone\n",
       "1                    1  Manhattan   Central Harlem North    Boro Zone\n",
       "2                    2  Manhattan    Morningside Heights    Boro Zone\n",
       "3                    3  Manhattan           East Chelsea  Yellow Zone\n",
       "4                    4  Manhattan          Midtown North  Yellow Zone"
      ]
     },
     "execution_count": 52,
     "metadata": {},
     "output_type": "execute_result"
    }
   ],
   "source": [
    "dropoff_location_dim.head()"
   ]
  },
  {
   "cell_type": "code",
   "execution_count": 53,
   "id": "4405a9de-60a5-423e-b03a-2e2b340fec41",
   "metadata": {},
   "outputs": [
    {
     "name": "stdout",
     "output_type": "stream",
     "text": [
      "<class 'pandas.core.frame.DataFrame'>\n",
      "Int64Index: 39656098 entries, 0 to 39656097\n",
      "Data columns (total 4 columns):\n",
      " #   Column               Dtype \n",
      "---  ------               ----- \n",
      " 0   dropoff_location_id  int64 \n",
      " 1   borough              object\n",
      " 2   zone                 object\n",
      " 3   service_zone         object\n",
      "dtypes: int64(1), object(3)\n",
      "memory usage: 1.5+ GB\n"
     ]
    }
   ],
   "source": [
    "dropoff_location_dim.info()"
   ]
  },
  {
   "cell_type": "code",
   "execution_count": 20,
   "id": "a0cfc1d6-d6d9-4140-a59f-f297375494ac",
   "metadata": {},
   "outputs": [],
   "source": [
    "payment_type_name = {\n",
    "    1:'Credit card',\n",
    "    2:'Cash',\n",
    "    3:'No charge',\n",
    "    4:'Dispute',\n",
    "    5:'Unknown',\n",
    "    6:'Voided trip'\n",
    "}\n",
    "\n",
    "payment_type_dim = trips[['payment_type']].reset_index(drop=True)\n",
    "payment_type_dim['payment_type_id'] = payment_type_dim.index\n",
    "payment_type_dim['payment_type_name'] = payment_type_dim['payment_type'].map(payment_type_name)\n",
    "payment_type_dim = payment_type_dim[['payment_type_id', 'payment_type', 'payment_type_name']]"
   ]
  },
  {
   "cell_type": "code",
   "execution_count": 21,
   "id": "ab736845-cd42-4292-8a17-34349452f94b",
   "metadata": {},
   "outputs": [
    {
     "data": {
      "text/html": [
       "<div>\n",
       "<style scoped>\n",
       "    .dataframe tbody tr th:only-of-type {\n",
       "        vertical-align: middle;\n",
       "    }\n",
       "\n",
       "    .dataframe tbody tr th {\n",
       "        vertical-align: top;\n",
       "    }\n",
       "\n",
       "    .dataframe thead th {\n",
       "        text-align: right;\n",
       "    }\n",
       "</style>\n",
       "<table border=\"1\" class=\"dataframe\">\n",
       "  <thead>\n",
       "    <tr style=\"text-align: right;\">\n",
       "      <th></th>\n",
       "      <th>payment_type_id</th>\n",
       "      <th>payment_type</th>\n",
       "      <th>payment_type_name</th>\n",
       "    </tr>\n",
       "  </thead>\n",
       "  <tbody>\n",
       "    <tr>\n",
       "      <th>0</th>\n",
       "      <td>0</td>\n",
       "      <td>1</td>\n",
       "      <td>Credit card</td>\n",
       "    </tr>\n",
       "    <tr>\n",
       "      <th>1</th>\n",
       "      <td>1</td>\n",
       "      <td>1</td>\n",
       "      <td>Credit card</td>\n",
       "    </tr>\n",
       "    <tr>\n",
       "      <th>2</th>\n",
       "      <td>2</td>\n",
       "      <td>1</td>\n",
       "      <td>Credit card</td>\n",
       "    </tr>\n",
       "    <tr>\n",
       "      <th>3</th>\n",
       "      <td>3</td>\n",
       "      <td>2</td>\n",
       "      <td>Cash</td>\n",
       "    </tr>\n",
       "    <tr>\n",
       "      <th>4</th>\n",
       "      <td>4</td>\n",
       "      <td>1</td>\n",
       "      <td>Credit card</td>\n",
       "    </tr>\n",
       "  </tbody>\n",
       "</table>\n",
       "</div>"
      ],
      "text/plain": [
       "   payment_type_id  payment_type payment_type_name\n",
       "0                0             1       Credit card\n",
       "1                1             1       Credit card\n",
       "2                2             1       Credit card\n",
       "3                3             2              Cash\n",
       "4                4             1       Credit card"
      ]
     },
     "execution_count": 21,
     "metadata": {},
     "output_type": "execute_result"
    }
   ],
   "source": [
    "payment_type_dim.head()"
   ]
  },
  {
   "cell_type": "code",
   "execution_count": 22,
   "id": "c7f0b9a8-af1e-4008-9a55-61a234fd093e",
   "metadata": {},
   "outputs": [
    {
     "name": "stdout",
     "output_type": "stream",
     "text": [
      "<class 'pandas.core.frame.DataFrame'>\n",
      "RangeIndex: 39656098 entries, 0 to 39656097\n",
      "Data columns (total 3 columns):\n",
      " #   Column             Dtype \n",
      "---  ------             ----- \n",
      " 0   payment_type_id    int64 \n",
      " 1   payment_type       int64 \n",
      " 2   payment_type_name  object\n",
      "dtypes: int64(2), object(1)\n",
      "memory usage: 907.7+ MB\n"
     ]
    }
   ],
   "source": [
    "payment_type_dim.info()"
   ]
  },
  {
   "cell_type": "code",
   "execution_count": null,
   "id": "a284924f-51e2-4575-8fe9-01149ec6d516",
   "metadata": {},
   "outputs": [],
   "source": [
    "fact_table = trips.merge(datetime_dim, left_on='trip_id', right_on='datetime_id') \\\n",
    "                .merge(rate_code_dim, left_on='trip_id', right_on='rate_code_id') \\\n",
    "                .merge(pickup_location_dim, left_on='trip_id', right_on='pickup_location_id') \\\n",
    "                .merge(dropoff_location_dim, left_on='trip_id', right_on='dropoff_location_id') \\\n",
    "                .merge(payment_type_dim, left_on='trip_id', right_on='payment_type_id') \\\n",
    "                .merge(rate_code_dim, left_on='trip_id', right_on='rate_code_id') \\"
   ]
  },
  {
   "cell_type": "code",
   "execution_count": 23,
   "id": "2671750b-e9a7-41e7-baab-7a02e232eee0",
   "metadata": {},
   "outputs": [
    {
     "data": {
      "text/plain": [
       "Index(['VendorID', 'tpep_pickup_datetime', 'tpep_dropoff_datetime',\n",
       "       'passenger_count', 'trip_distance', 'RatecodeID', 'store_and_fwd_flag',\n",
       "       'PULocationID', 'DOLocationID', 'payment_type', 'fare_amount', 'extra',\n",
       "       'mta_tax', 'tip_amount', 'tolls_amount', 'improvement_surcharge',\n",
       "       'total_amount', 'congestion_surcharge', 'airport_fee', 'trip_id'],\n",
       "      dtype='object')"
      ]
     },
     "execution_count": 23,
     "metadata": {},
     "output_type": "execute_result"
    }
   ],
   "source": [
    "fact_table = fact_table[[\n",
    "    'trip_id',\n",
    "    'datetime_id',\n",
    "    'ratecode_id',\n",
    "    'pickup_location_id',\n",
    "    'dropout_location_id',\n",
    "    'payment_type',\n",
    "    'vendor_id',\n",
    "    'store_and_fwd_flag',\n",
    "    'passenger_count',\n",
    "    'trip_distance',\n",
    "    'fare_amount',\n",
    "    'extra',\n",
    "    'mta_tax',\n",
    "    'tip_amount',\n",
    "    'tolls_amount',\n",
    "    'improvement_surcharge',\n",
    "    'total_amount',\n",
    "    'congestion_surcharge',\n",
    "    'airport_fee\n",
    "]]\n"
   ]
  },
  {
   "cell_type": "code",
   "execution_count": null,
   "id": "1b2cf18f-4489-4243-9ba9-0f2ab50c3eac",
   "metadata": {},
   "outputs": [],
   "source": [
    "fact_table.head()"
   ]
  },
  {
   "cell_type": "code",
   "execution_count": null,
   "id": "5d44510b-2b15-420d-89e1-69cc8512e850",
   "metadata": {},
   "outputs": [],
   "source": [
    "fact_table.tail()"
   ]
  },
  {
   "cell_type": "code",
   "execution_count": null,
   "id": "54701b41-16b7-4ef0-9b1c-588c60a853bc",
   "metadata": {},
   "outputs": [],
   "source": [
    "fact_table_info()"
   ]
  }
 ],
 "metadata": {
  "kernelspec": {
   "display_name": "Python 3 (ipykernel)",
   "language": "python",
   "name": "python3"
  },
  "language_info": {
   "codemirror_mode": {
    "name": "ipython",
    "version": 3
   },
   "file_extension": ".py",
   "mimetype": "text/x-python",
   "name": "python",
   "nbconvert_exporter": "python",
   "pygments_lexer": "ipython3",
   "version": "3.11.6"
  }
 },
 "nbformat": 4,
 "nbformat_minor": 5
}
